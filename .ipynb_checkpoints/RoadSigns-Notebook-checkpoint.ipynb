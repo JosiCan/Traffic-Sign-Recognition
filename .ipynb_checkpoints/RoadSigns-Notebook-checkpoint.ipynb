{
 "cells": [
  {
   "cell_type": "code",
   "execution_count": 1,
   "id": "proper-gross",
   "metadata": {},
   "outputs": [],
   "source": [
    "# CS 489 - 1001 - Group Project\n",
    "#    Authors: Josiah Canlapan, Alice Giandjian,  Trixi Jansuy,  Abel Loya-Villalobos\n",
    "#\n",
    "#  Road Signs Recognition\n",
    "\n",
    "import os\n",
    "import pandas as pd\n",
    "import numpy as np\n",
    "import matplotlib\n",
    "from matplotlib import pyplot\n",
    "from matplotlib import image\n",
    "from sklearn import svm\n",
    "from sklearn.utils import shuffle\n",
    "from skimage.color import rgb2gray\n",
    "from skimage.transform import resize"
   ]
  },
  {
   "cell_type": "code",
   "execution_count": 2,
   "id": "increasing-values",
   "metadata": {},
   "outputs": [],
   "source": [
    "def gatherData():\n",
    "    data = []\n",
    "    folders = os.listdir('../dataSets')\n",
    "    for folder in folders:\n",
    "        folderItems = '../dataSets/' + folder\n",
    "        for items in os.listdir(folderItems):\n",
    "            getItems = folderItems + '/' + items\n",
    "            img = image.imread(getItems, format=\"jpg\")\n",
    "            res = rgb2gray(img)\n",
    "            res = resize(res,(250, 250))\n",
    "            row = []\n",
    "            #print(*res)\n",
    "            for i in res:\n",
    "                for j in i:\n",
    "                    row.append(j)\n",
    "                    #print(j)\n",
    "            data.append(row)\n",
    "\n",
    "    return data"
   ]
  },
  {
   "cell_type": "code",
   "execution_count": 5,
   "id": "specific-convergence",
   "metadata": {},
   "outputs": [],
   "source": [
    "def getLabels():\n",
    "    labels = []\n",
    "    label = \"\"\n",
    "    folders = os.listdir('../dataSets')\n",
    "    for folder in folders:\n",
    "        for i in range(len(folder)):\n",
    "            label = label + folder[i]\n",
    "        folderItems = '../dataSets/' + folder\n",
    "        for j in range(len(os.listdir(folderItems))):\n",
    "            labels.append(label.strip())\n",
    "        label = \" \"\n",
    "    return labels"
   ]
  },
  {
   "cell_type": "code",
   "execution_count": 6,
   "id": "forbidden-thunder",
   "metadata": {},
   "outputs": [],
   "source": [
    "def TestData(testSet, kernel):\n",
    "    s = svm.SVC(kernel=kernel)\n",
    "    s.fit(TrainingSet, TrainingLabels)\n",
    "    result = s.predict(TestSet)\n",
    "    \n",
    "    return((result, s.score(TestSet, TestLabels)*100))"
   ]
  },
  {
   "cell_type": "code",
   "execution_count": null,
   "id": "considerable-humanitarian",
   "metadata": {},
   "outputs": [
    {
     "name": "stderr",
     "output_type": "stream",
     "text": [
      "<ipython-input-2-bf5e7650418e>:9: FutureWarning: Non RGB image conversion is now deprecated. For RGBA images, please use rgb2gray(rgba2rgb(rgb)) instead. In version 0.19, a ValueError will be raised if input image last dimension length is not 3.\n",
      "  res = rgb2gray(img)\n"
     ]
    },
    {
     "name": "stdout",
     "output_type": "stream",
     "text": [
      "\n",
      "Fold\n",
      "Linear:\t 48.333333333333336\n",
      "Poly:\t 35.0\n",
      "RBF:\t 23.333333333333332\n",
      "Sigmoid:\t 3.3333333333333335\n",
      "\n",
      "Fold\n",
      "Linear:\t 55.00000000000001\n",
      "Poly:\t 48.333333333333336\n",
      "RBF:\t 41.66666666666667\n",
      "Sigmoid:\t 5.0\n",
      "\n",
      "Fold\n",
      "Linear:\t 50.0\n",
      "Poly:\t 45.0\n",
      "RBF:\t 30.0\n",
      "Sigmoid:\t 5.0\n",
      "\n",
      "Fold\n",
      "Linear:\t 43.333333333333336\n",
      "Poly:\t 35.0\n",
      "RBF:\t 31.666666666666664\n",
      "Sigmoid:\t 6.666666666666667\n",
      "\n",
      "Fold\n"
     ]
    }
   ],
   "source": [
    "y = pd.DataFrame(getLabels())\n",
    "X = pd.DataFrame(gatherData())\n",
    "Data = pd.concat([y,X], axis =1)\n",
    "ShuffledData = shuffle(Data)\n",
    "\n",
    "\n",
    "k = 5\n",
    "guesses = []\n",
    "\n",
    "for TestSet in np.split(ShuffledData, k):\n",
    "    # Prepare Training Set\n",
    "    TrainingSet = ShuffledData.drop(TestSet.index)\n",
    "    \n",
    "    # Separate Labels from the Data\n",
    "    TestLabels = TestSet.iloc[:,0]\n",
    "    TestSet = TestSet.iloc[:,1:]\n",
    "    \n",
    "    # Separate the Labels from the Data\n",
    "    TrainingLabels = TrainingSet.iloc[:,0]\n",
    "    TrainingSet = TrainingSet.iloc[:,1:]\n",
    "    \n",
    "    # Instantiate the SVM\n",
    "    print(\"\\nFold\")\n",
    "    l = TestData(TestSet, \"linear\")\n",
    "    lGuess = pd.concat([TestLabels, pd.DataFrame(l[0])], axis=1)\n",
    "    print(\"Linear:\\t\",l[1])\n",
    "    guesses.append(lGuess)\n",
    "    \n",
    "    p = TestData(TestSet, \"poly\")\n",
    "    pGuess = pd.concat([TestLabels, pd.DataFrame(p[0])], axis=1)\n",
    "    print(\"Poly:\\t\",p[1])\n",
    "    guesses.append(pGuess)\n",
    "    \n",
    "    \n",
    "    r = TestData(TestSet, \"rbf\")\n",
    "    rGuess = pd.concat([TestLabels, pd.DataFrame(r[0])], axis=1)\n",
    "    print(\"RBF:\\t\",r[1])\n",
    "    guesses.append(rGuess)\n",
    "    \n",
    "    s = TestData(TestSet, \"sigmoid\")\n",
    "    sGuess = pd.concat([TestLabels, pd.DataFrame(s[0])], axis=1)\n",
    "    print(\"Sigmoid: \",s[1])\n",
    "    guesses.append(sGuess)\n",
    "    \n",
    "    \n",
    "    \n",
    "print(guesses)\n",
    "\n"
   ]
  }
 ],
 "metadata": {
  "kernelspec": {
   "display_name": "Python 3",
   "language": "python",
   "name": "python3"
  },
  "language_info": {
   "codemirror_mode": {
    "name": "ipython",
    "version": 3
   },
   "file_extension": ".py",
   "mimetype": "text/x-python",
   "name": "python",
   "nbconvert_exporter": "python",
   "pygments_lexer": "ipython3",
   "version": "3.9.1"
  }
 },
 "nbformat": 4,
 "nbformat_minor": 5
}

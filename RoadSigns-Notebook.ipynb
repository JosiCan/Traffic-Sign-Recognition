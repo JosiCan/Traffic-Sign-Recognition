{
 "cells": [
  {
   "cell_type": "code",
   "execution_count": 1,
   "id": "descending-fiber",
   "metadata": {},
   "outputs": [],
   "source": [
    "# CS 489 - 1001 - Group Project\n",
    "#    Authors: Josiah Canlapan, Alice Giandjian,  Trixi Jansuy,  Abel Loya-Villalobos\n",
    "#\n",
    "#  Road Signs Recognition\n",
    "\n",
    "import os\n",
    "import pandas as pd\n",
    "import numpy as np\n",
    "import matplotlib\n",
    "from matplotlib import pyplot\n",
    "from matplotlib import image\n",
    "from sklearn import svm\n",
    "from sklearn.utils import shuffle\n",
    "from skimage.color import rgb2gray\n",
    "from skimage.transform import resize"
   ]
  },
  {
   "cell_type": "code",
   "execution_count": 2,
   "id": "exposed-suggestion",
   "metadata": {},
   "outputs": [],
   "source": [
    "def gatherData():\n",
    "    data = []\n",
    "    folders = os.listdir('../dataSets')\n",
    "    for folder in folders:\n",
    "        folderItems = '../dataSets/' + folder\n",
    "        for items in os.listdir(folderItems):\n",
    "            getItems = folderItems + '/' + items\n",
    "            img = image.imread(getItems, format=\"jpg\")\n",
    "            res = rgb2gray(img)\n",
    "            res = resize(res,(250, 250))\n",
    "            row = []\n",
    "            #print(*res)\n",
    "            for i in res:\n",
    "                for j in i:\n",
    "                    row.append(j)\n",
    "                    #print(j)\n",
    "            data.append(row)\n",
    "\n",
    "    return data"
   ]
  },
  {
   "cell_type": "code",
   "execution_count": 5,
   "id": "south-sixth",
   "metadata": {},
   "outputs": [],
   "source": [
    "def getLabels():\n",
    "    labels = []\n",
    "    label = \"\"\n",
    "    folders = os.listdir('../dataSets')\n",
    "    for folder in folders:\n",
    "        for i in range(len(folder)):\n",
    "            label = label + folder[i]\n",
    "        folderItems = '../dataSets/' + folder\n",
    "        for j in range(len(os.listdir(folderItems))):\n",
    "            labels.append(label.strip())\n",
    "        label = \" \"\n",
    "    return labels"
   ]
  },
  {
   "cell_type": "code",
   "execution_count": 6,
   "id": "spatial-verification",
   "metadata": {},
   "outputs": [],
   "source": [
    "def TestData(testSet, kernel):\n",
    "    s = svm.SVC(kernel=kernel)\n",
    "    s.fit(TrainingSet, TrainingLabels)\n",
    "    result = s.predict(TestSet)\n",
    "    \n",
    "    return((result, s.score(TestSet, TestLabels)*100))"
   ]
  },
  {
   "cell_type": "code",
   "execution_count": null,
   "id": "pursuant-basics",
   "metadata": {},
   "outputs": [
    {
     "name": "stderr",
     "output_type": "stream",
     "text": [
      "<ipython-input-2-bf5e7650418e>:9: FutureWarning: Non RGB image conversion is now deprecated. For RGBA images, please use rgb2gray(rgba2rgb(rgb)) instead. In version 0.19, a ValueError will be raised if input image last dimension length is not 3.\n",
      "  res = rgb2gray(img)\n"
     ]
    },
    {
     "name": "stdout",
     "output_type": "stream",
     "text": [
      "\n",
      "Fold\n"
     ]
    }
   ],
   "source": [
    "y = pd.DataFrame(getLabels())\n",
    "X = pd.DataFrame(gatherData())\n",
    "Data = pd.concat([y,X], axis =1)\n",
    "ShuffledData = shuffle(Data)\n",
    "\n",
    "\n",
    "k = 5\n",
    "\n",
    "\n",
    "for TestSet in np.split(ShuffledData, k):\n",
    "    # Prepare Training Set\n",
    "    TrainingSet = ShuffledData.drop(TestSet.index)\n",
    "    \n",
    "    # Separate Labels from the Data\n",
    "    TestLabels = TestSet.iloc[:,0]\n",
    "    TestSet = TestSet.iloc[:,1:]\n",
    "    \n",
    "    # Separate the Labels from the Data\n",
    "    TrainingLabels = TrainingSet.iloc[:,0]\n",
    "    TrainingSet = TrainingSet.iloc[:,1:]\n",
    "    \n",
    "    # Instantiate the SVM\n",
    "    print(\"\\nFold\")\n",
    "    print(TestData(TestSet, \"linear\"))\n",
    "    print(TestData(TestSet, \"poly\"))\n",
    "    print(TestData(TestSet, \"rbf\"))\n",
    "    print(TestData(TestSet, \"sigmoid\"))\n",
    "    print()\n",
    "    \n",
    "    \n",
    "    \n",
    "\n",
    "\n"
   ]
  }
 ],
 "metadata": {
  "kernelspec": {
   "display_name": "Python 3",
   "language": "python",
   "name": "python3"
  },
  "language_info": {
   "codemirror_mode": {
    "name": "ipython",
    "version": 3
   },
   "file_extension": ".py",
   "mimetype": "text/x-python",
   "name": "python",
   "nbconvert_exporter": "python",
   "pygments_lexer": "ipython3",
   "version": "3.9.1"
  }
 },
 "nbformat": 4,
 "nbformat_minor": 5
}
